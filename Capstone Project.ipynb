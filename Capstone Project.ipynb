{
 "cells": [
  {
   "cell_type": "markdown",
   "metadata": {},
   "source": [
    "# Capstone Project\n",
    "## Neural translation model\n",
    "### Instructions\n",
    "\n",
    "In this notebook, you will create a neural network that translates from English to German. You will use concepts from throughout this course, including building more flexible model architectures, freezing layers, data processing pipeline and sequence modelling.\n",
    "\n",
    "This project is peer-assessed. Within this notebook you will find instructions in each section for how to complete the project. Pay close attention to the instructions as the peer review will be carried out according to a grading rubric that checks key parts of the project instructions. Feel free to add extra cells into the notebook as required.\n",
    "\n",
    "### How to submit\n",
    "\n",
    "When you have completed the Capstone project notebook, you will submit a pdf of the notebook for peer review. First ensure that the notebook has been fully executed from beginning to end, and all of the cell outputs are visible. This is important, as the grading rubric depends on the reviewer being able to view the outputs of your notebook. Save the notebook as a pdf (File -> Download as -> PDF via LaTeX). You should then submit this pdf for review.\n",
    "\n",
    "### Let's get started!\n",
    "\n",
    "We'll start by running some imports, and loading the dataset. For this project you are free to make further imports throughout the notebook as you wish. "
   ]
  },
  {
   "cell_type": "code",
   "execution_count": 1,
   "metadata": {},
   "outputs": [],
   "source": [
    "import tensorflow as tf\n",
    "import tensorflow_hub as hub\n",
    "import unicodedata\n",
    "import re"
   ]
  },
  {
   "cell_type": "markdown",
   "metadata": {},
   "source": [
    "![Flags overview image](data/germany_uk_flags.png)\n",
    "\n",
    "For the capstone project, you will use a language dataset from http://www.manythings.org/anki/ to build a neural translation model. This dataset consists of over 200,000 pairs of sentences in English and German. In order to make the training quicker, we will restrict to our dataset to 20,000 pairs. Feel free to change this if you wish - the size of the dataset used is not part of the grading rubric.\n",
    "\n",
    "Your goal is to develop a neural translation model from English to German, making use of a pre-trained English word embedding module."
   ]
  },
  {
   "cell_type": "code",
   "execution_count": 2,
   "metadata": {},
   "outputs": [],
   "source": [
    "# Run this cell to load the dataset\n",
    "\n",
    "NUM_EXAMPLES = 20000\n",
    "data_examples = []\n",
    "with open('data/deu.txt', 'r', encoding='utf8') as f:\n",
    "    for line in f.readlines():\n",
    "        if len(data_examples) < NUM_EXAMPLES:\n",
    "            data_examples.append(line)\n",
    "        else:\n",
    "            break"
   ]
  },
  {
   "cell_type": "code",
   "execution_count": 3,
   "metadata": {},
   "outputs": [],
   "source": [
    "# These functions preprocess English and German sentences\n",
    "\n",
    "def unicode_to_ascii(s):\n",
    "    return ''.join(c for c in unicodedata.normalize('NFD', s) if unicodedata.category(c) != 'Mn')\n",
    "\n",
    "def preprocess_sentence(sentence):\n",
    "    sentence = sentence.lower().strip()\n",
    "    sentence = re.sub(r\"ü\", 'ue', sentence)\n",
    "    sentence = re.sub(r\"ä\", 'ae', sentence)\n",
    "    sentence = re.sub(r\"ö\", 'oe', sentence)\n",
    "    sentence = re.sub(r'ß', 'ss', sentence)\n",
    "    \n",
    "    sentence = unicode_to_ascii(sentence)\n",
    "    sentence = re.sub(r\"([?.!,])\", r\" \\1 \", sentence)\n",
    "    sentence = re.sub(r\"[^a-z?.!,']+\", \" \", sentence)\n",
    "    sentence = re.sub(r'[\" \"]+', \" \", sentence)\n",
    "    \n",
    "    return sentence.strip()"
   ]
  },
  {
   "cell_type": "markdown",
   "metadata": {},
   "source": [
    "#### The custom translation model\n",
    "The following is a schematic of the custom translation model architecture you will develop in this project.\n",
    "\n",
    "![Model Schematic](data/neural_translation_model.png)\n",
    "\n",
    "Key:\n",
    "![Model key](data/neural_translation_model_key.png)\n",
    "\n",
    "The custom model consists of an encoder RNN and a decoder RNN. The encoder takes words of an English sentence as input, and uses a pre-trained word embedding to embed the words into a 128-dimensional space. To indicate the end of the input sentence, a special end token (in the same 128-dimensional space) is passed in as an input. This token is a TensorFlow Variable that is learned in the training phase (unlike the pre-trained word embedding, which is frozen).\n",
    "\n",
    "The decoder RNN takes the internal state of the encoder network as its initial state. A start token is passed in as the first input, which is embedded using a learned German word embedding. The decoder RNN then makes a prediction for the next German word, which during inference is then passed in as the following input, and this process is repeated until the special `<end>` token is emitted from the decoder."
   ]
  },
  {
   "cell_type": "markdown",
   "metadata": {},
   "source": [
    "## 1. Text preprocessing\n",
    "* Create separate lists of English and German sentences, and preprocess them using the `preprocess_sentence` function provided for you above.\n",
    "* Add a special `\"<start>\"` and `\"<end>\"` token to the beginning and end of every German sentence.\n",
    "* Use the Tokenizer class from the `tf.keras.preprocessing.text` module to tokenize the German sentences, ensuring that no character filters are applied. _Hint: use the Tokenizer's \"filter\" keyword argument._\n",
    "* Print out at least 5 randomly chosen examples of (preprocessed) English and German sentence pairs. For the German sentence, print out the text (with start and end tokens) as well as the tokenized sequence.\n",
    "* Pad the end of the tokenized German sequences with zeros, and batch the complete set of sequences into one numpy array."
   ]
  },
  {
   "cell_type": "code",
   "execution_count": 4,
   "metadata": {
    "scrolled": true
   },
   "outputs": [],
   "source": [
    "eng_sentences = []\n",
    "ger_sentences = []\n",
    "\n",
    "\n",
    "for inx in range(len(data_examples)):\n",
    "    split_data = re.split(r'\\t',data_examples[inx])\n",
    "    eng_sentences.append(preprocess_sentence(split_data[0]))\n",
    "    ger_sentences.append(\"<start> \"+preprocess_sentence(split_data[1])+\" <end>\")\n",
    "    \n",
    "    \n",
    "# print(eng_sentences[:10])\n",
    "# print(ger_sentences[:10])\n",
    "# type(ger_sentences[0])"
   ]
  },
  {
   "cell_type": "code",
   "execution_count": 5,
   "metadata": {},
   "outputs": [],
   "source": [
    "from tensorflow.keras.preprocessing.text import Tokenizer\n",
    "\n",
    "ger_tokenizer = Tokenizer(filters='')\n",
    "ger_tokenizer.fit_on_texts(ger_sentences)\n",
    "tokenized_ger_sentences = ger_tokenizer.texts_to_sequences(ger_sentences)"
   ]
  },
  {
   "cell_type": "code",
   "execution_count": 6,
   "metadata": {},
   "outputs": [
    {
     "name": "stdout",
     "output_type": "stream",
     "text": [
      "Preprocessed English sentence: get some rest .\n",
      "Preprocessed German sentence: <start> ruhe dich ein wenig aus . <end>\n",
      "Tokenized German sentence:  [1, 378, 28, 19, 771, 41, 3, 2]\n",
      "\n",
      "\n",
      "Preprocessed English sentence: hit the brakes .\n",
      "Preprocessed German sentence: <start> treten sie auf die bremse ! <end>\n",
      "Tokenized German sentence:  [1, 1541, 8, 29, 26, 2670, 9, 2]\n",
      "\n",
      "\n",
      "Preprocessed English sentence: tom was troubled .\n",
      "Preprocessed German sentence: <start> tom war in schwierigkeiten geraten . <end>\n",
      "Tokenized German sentence:  [1, 5, 24, 46, 1198, 1337, 3, 2]\n",
      "\n",
      "\n",
      "Preprocessed English sentence: he is watching tv .\n",
      "Preprocessed German sentence: <start> er schaut fern . <end>\n",
      "Tokenized German sentence:  [1, 14, 621, 1644, 3, 2]\n",
      "\n",
      "\n",
      "Preprocessed English sentence: i need caffeine .\n",
      "Preprocessed German sentence: <start> ich brauche koffein . <end>\n",
      "Tokenized German sentence:  [1, 4, 94, 4270, 3, 2]\n",
      "\n",
      "\n"
     ]
    }
   ],
   "source": [
    "import random\n",
    "\n",
    "\n",
    "\n",
    "for rand_inx in random.sample(range(len(data_examples)), 5):\n",
    "    print(\"Preprocessed English sentence: \" + eng_sentences[rand_inx])\n",
    "    print(\"Preprocessed German sentence: \" + ger_sentences[rand_inx])\n",
    "    print(\"Tokenized German sentence: \", tokenized_ger_sentences[rand_inx])\n",
    "    print('\\n')\n",
    "\n"
   ]
  },
  {
   "cell_type": "code",
   "execution_count": 7,
   "metadata": {},
   "outputs": [],
   "source": [
    "from tensorflow.keras.preprocessing.sequence import pad_sequences \n",
    "import numpy as np\n",
    "\n",
    "padded_ger_tokens = pad_sequences(tokenized_ger_sentences, padding='post')\n"
   ]
  },
  {
   "cell_type": "code",
   "execution_count": 8,
   "metadata": {},
   "outputs": [],
   "source": [
    "# padded_ger_tokens.shape"
   ]
  },
  {
   "cell_type": "code",
   "execution_count": 9,
   "metadata": {},
   "outputs": [
    {
     "data": {
      "text/plain": [
       "array([[   1,  405,    9,    2,    0,    0,    0,    0,    0,    0,    0,\n",
       "           0,    0,    0],\n",
       "       [   1, 3155,  663,    9,    2,    0,    0,    0,    0,    0,    0,\n",
       "           0,    0,    0]], dtype=int32)"
      ]
     },
     "execution_count": 9,
     "metadata": {},
     "output_type": "execute_result"
    }
   ],
   "source": [
    "padded_ger_tokens[:2]"
   ]
  },
  {
   "cell_type": "markdown",
   "metadata": {},
   "source": [
    "## 2. Prepare the data with tf.data.Dataset objects"
   ]
  },
  {
   "cell_type": "markdown",
   "metadata": {},
   "source": [
    "#### Load the embedding layer\n",
    "As part of the dataset preproceessing for this project, you will use a pre-trained English word embedding module from TensorFlow Hub. The URL for the module is https://tfhub.dev/google/tf2-preview/nnlm-en-dim128-with-normalization/1. This module has also been made available as a complete saved model in the folder `'./models/tf2-preview_nnlm-en-dim128_1'`. \n",
    "\n",
    "This embedding takes a batch of text tokens in a 1-D tensor of strings as input. It then embeds the separate tokens into a 128-dimensional space. \n",
    "\n",
    "The code to load and test the embedding layer is provided for you below.\n",
    "\n",
    "**NB:** this model can also be used as a sentence embedding module. The module will process each token by removing punctuation and splitting on spaces. It then averages the word embeddings over a sentence to give a single embedding vector. However, we will use it only as a word embedding module, and will pass each word in the input sentence as a separate token."
   ]
  },
  {
   "cell_type": "code",
   "execution_count": 10,
   "metadata": {},
   "outputs": [],
   "source": [
    "# Load embedding module from Tensorflow Hub\n",
    "\n",
    "\n",
    "model_path = './models/tf2-preview_nnlm-en-dim128_1'\n",
    "embedding_layer = tf.keras.models.load_model(model_path)\n",
    "\n",
    "#embedding_layer = hub.KerasLayer(\"https://tfhub.dev/google/tf2-preview/nnlm-en-dim128-with-normalization/1\", \n",
    "#                                 output_shape=[128], input_shape=[], dtype=tf.string)"
   ]
  },
  {
   "cell_type": "code",
   "execution_count": 11,
   "metadata": {},
   "outputs": [
    {
     "data": {
      "text/plain": [
       "TensorShape([7, 128])"
      ]
     },
     "execution_count": 11,
     "metadata": {},
     "output_type": "execute_result"
    }
   ],
   "source": [
    "# Test the layer\n",
    "\n",
    "embedding_layer(tf.constant([\"these\", \"aren't\", \"the\", \"droids\", \"you're\", \"looking\", \"for\"])).shape"
   ]
  },
  {
   "cell_type": "markdown",
   "metadata": {},
   "source": [
    "You should now prepare the training and validation Datasets.\n",
    "\n",
    "* Create a random training and validation set split of the data, reserving e.g. 20% of the data for validation (NB: each English dataset example is a single sentence string, and each German dataset example is a sequence of padded integer tokens).\n",
    "* Load the training and validation sets into a tf.data.Dataset object, passing in a tuple of English and German data for both training and validation sets.\n",
    "* Create a function to map over the datasets that splits each English sentence at spaces. Apply this function to both Dataset objects using the map method. _Hint: look at the tf.strings.split function._\n",
    "* Create a function to map over the datasets that embeds each sequence of English words using the loaded embedding layer/model. Apply this function to both Dataset objects using the map method.\n",
    "* Create a function to filter out dataset examples where the English sentence is more than 13 (embedded) tokens in length. Apply this function to both Dataset objects using the filter method.\n",
    "* Create a function to map over the datasets that pads each English sequence of embeddings with some distinct padding value before the sequence, so that each sequence is length 13. Apply this function to both Dataset objects using the map method. _Hint: look at the tf.pad function. You can extract a Tensor shape using tf.shape; you might also find the tf.math.maximum function useful._\n",
    "* Batch both training and validation Datasets with a batch size of 16.\n",
    "* Print the `element_spec` property for the training and validation Datasets. \n",
    "* Using the Dataset `.take(1)` method, print the shape of the English data example from the training Dataset.\n",
    "* Using the Dataset `.take(1)` method, print the German data example Tensor from the validation Dataset."
   ]
  },
  {
   "cell_type": "code",
   "execution_count": null,
   "metadata": {},
   "outputs": [],
   "source": []
  },
  {
   "cell_type": "code",
   "execution_count": 12,
   "metadata": {},
   "outputs": [],
   "source": [
    "def split_and_embed_sentence(eng_sentence,ger_tokens):\n",
    "    sentence_split = tf.strings.split(eng_sentence, sep=' ')\n",
    "    embedded_sentence = embedding_layer(sentence_split)\n",
    "    return embedded_sentence, ger_tokens\n",
    "\n",
    "\n",
    "def filter_long_embedding(embedding,ger_tokens):\n",
    "    return tf.shape(embedding)[0] <= 13\n",
    "\n",
    "def pad_embedding(embedding, ger_tokens):\n",
    "    padding_length = int(13 - tf.shape(embedding)[0])\n",
    "    #padding = tf.constant([[0,padding_length],[0,0]])\n",
    "    padded_embedding = tf.pad(embedding,[[0,padding_length],[0,0]],'CONSTANT')\n",
    "    return padded_embedding, ger_tokens\n",
    "\n",
    "    "
   ]
  },
  {
   "cell_type": "code",
   "execution_count": 13,
   "metadata": {},
   "outputs": [],
   "source": [
    "train_size = int(0.8 * len(eng_sentences))\n",
    "\n",
    "train_eng_setences = eng_sentences[:train_size]\n",
    "train_ger_tokens = padded_ger_tokens[:train_size]\n",
    "\n",
    "train_dataset = tf.data.Dataset.from_tensor_slices((train_eng_setences, train_ger_tokens))\n",
    "\n",
    "train_dataset = train_dataset.map(split_and_embed_sentence)\n",
    "train_dataset = train_dataset.filter(filter_long_embedding)\n",
    "train_dataset = train_dataset.map(pad_embedding)\n",
    "train_dataset = train_dataset.batch(16)\n",
    "\n",
    "valid_eng_sentences = eng_sentences[train_size:]\n",
    "valid_ger_tokens = padded_ger_tokens[train_size:]\n",
    "\n",
    "valid_dataset = tf.data.Dataset.from_tensor_slices((valid_eng_sentences, valid_ger_tokens))\n",
    "\n",
    "valid_dataset = valid_dataset.map(split_and_embed_sentence)\n",
    "valid_dataset = valid_dataset.filter(filter_long_embedding)\n",
    "valid_dataset = valid_dataset.map(pad_embedding)\n",
    "valid_dataset = valid_dataset.batch(16)\n",
    "\n"
   ]
  },
  {
   "cell_type": "code",
   "execution_count": 14,
   "metadata": {},
   "outputs": [
    {
     "name": "stdout",
     "output_type": "stream",
     "text": [
      "The shape of the batch of English data in the training set is  [ 16  13 128]\n",
      "An example of a batch of German tokens in the validation set is:\n",
      "[[   1   11    6  106  538    3    2    0    0    0    0    0    0    0]\n",
      " [   1   11    6   19 5102    3    2    0    0    0    0    0    0    0]\n",
      " [   1   47  427    6  428    3    2    0    0    0    0    0    0    0]\n",
      " [   1   26 1425 2739 5103    3    2    0    0    0    0    0    0    0]\n",
      " [   1   26 1425    6  325    9    2    0    0    0    0    0    0    0]\n",
      " [   1   11 1373    6  360    3    2    0    0    0    0    0    0    0]\n",
      " [   1   26 5104    6  938    3    2    0    0    0    0    0    0    0]\n",
      " [   1   26  591   67    3    2    0    0    0    0    0    0    0    0]\n",
      " [   1   26  591   25   67    3    2    0    0    0    0    0    0    0]\n",
      " [   1   47 1584    6  328    3    2    0    0    0    0    0    0    0]\n",
      " [   1   11  113    6   33    3    2    0    0    0    0    0    0    0]\n",
      " [   1   11  113    6  584    3    2    0    0    0    0    0    0    0]\n",
      " [   1   11  113    6   84    3    2    0    0    0    0    0    0    0]\n",
      " [   1   26 2227    6  938    3    2    0    0    0    0    0    0    0]\n",
      " [   1   26 2229    6  938    3    2    0    0    0    0    0    0    0]\n",
      " [   1   26 2229    6  478    3    2    0    0    0    0    0    0    0]]\n"
     ]
    }
   ],
   "source": [
    "train_example = train_dataset.take(1)\n",
    "eng_example = next(iter(train_example))[0]\n",
    "\n",
    "print( \"The shape of the batch of English data in the training set is \", np.array(eng_example.shape))\n",
    "\n",
    "valid_example = valid_dataset.take(1)\n",
    "ger_token_example = next(iter(valid_example))[1]\n",
    "\n",
    "print(\"An example of a batch of German tokens in the validation set is:\")\n",
    "print(np.array(ger_token_example))\n"
   ]
  },
  {
   "cell_type": "markdown",
   "metadata": {},
   "source": [
    "## 3. Create the custom layer\n",
    "You will now create a custom layer to add the learned end token embedding to the encoder model:\n",
    "\n",
    "![Encoder schematic](data/neural_translation_model_encoder.png)"
   ]
  },
  {
   "cell_type": "markdown",
   "metadata": {},
   "source": [
    "You should now build the custom layer.\n",
    "* Using layer subclassing, create a custom layer that takes a batch of English data examples from one of the Datasets, and adds a learned embedded ‘end’ token to the end of each sequence. \n",
    "* This layer should create a TensorFlow Variable (that will be learned during training) that is 128-dimensional (the size of the embedding space). _Hint: you may find it helpful in the call method to use the tf.tile function to replicate the end token embedding across every element in the batch._\n",
    "* Using the Dataset `.take(1)` method, extract a batch of English data examples from the training Dataset and print the shape. Test the custom layer by calling the layer on the English data batch Tensor and print the resulting Tensor shape (the layer should increase the sequence length by one)."
   ]
  },
  {
   "cell_type": "code",
   "execution_count": 15,
   "metadata": {},
   "outputs": [],
   "source": [
    "from tensorflow.keras.layers import Layer\n",
    "\n",
    "class CustomLayer(Layer):\n",
    "    \n",
    "    def __init__(self):\n",
    "        super(CustomLayer,self).__init__()\n",
    "        self.end_token = self.add_weight(shape = (1,1,128), initializer='random_normal')\n",
    "    \n",
    "    def call(self,inputs):\n",
    "        #batch_size = inputs.shape[0]\n",
    "        tiled_end_token = tf.tile(self.end_token, tf.constant([16,1,1]))\n",
    "        return tf.concat([inputs,tiled_end_token], axis=1)\n",
    "        "
   ]
  },
  {
   "cell_type": "code",
   "execution_count": 16,
   "metadata": {},
   "outputs": [
    {
     "name": "stdout",
     "output_type": "stream",
     "text": [
      "The shape of the batch of English data in the training set is  [ 16  13 128]\n",
      "The shape of the batch of English data after the custom layer is  [ 16  14 128]\n"
     ]
    }
   ],
   "source": [
    "train_example = train_dataset.take(1)\n",
    "eng_example = next(iter(train_example))[0]\n",
    "\n",
    "print( \"The shape of the batch of English data in the training set is \", np.array(eng_example.shape))\n",
    "\n",
    "custom_layer = CustomLayer()\n",
    "custom_layer_test = custom_layer(eng_example)\n",
    "\n",
    "print( \"The shape of the batch of English data after the custom layer is \", np.array(custom_layer_test.shape))\n",
    "\n"
   ]
  },
  {
   "cell_type": "code",
   "execution_count": 17,
   "metadata": {},
   "outputs": [
    {
     "data": {
      "text/plain": [
       "16"
      ]
     },
     "execution_count": 17,
     "metadata": {},
     "output_type": "execute_result"
    }
   ],
   "source": [
    "eng_example.shape[0]"
   ]
  },
  {
   "cell_type": "markdown",
   "metadata": {},
   "source": [
    "## 4. Build the encoder network\n",
    "The encoder network follows the schematic diagram above. You should now build the RNN encoder model.\n",
    "* Using the functional API, build the encoder network according to the following spec:\n",
    "    * The model will take a batch of sequences of embedded English words as input, as given by the Dataset objects.\n",
    "    * The next layer in the encoder will be the custom layer you created previously, to add a learned end token embedding to the end of the English sequence.\n",
    "    * This is followed by a Masking layer, with the `mask_value` set to the distinct padding value you used when you padded the English sequences with the Dataset preprocessing above.\n",
    "    * The final layer is an LSTM layer with 512 units, which also returns the hidden and cell states.\n",
    "    * The encoder is a multi-output model. There should be two output Tensors of this model: the hidden state and cell states of the LSTM layer. The output of the LSTM layer is unused.\n",
    "* Using the Dataset `.take(1)` method, extract a batch of English data examples from the training Dataset and test the encoder model by calling it on the English data Tensor, and print the shape of the resulting Tensor outputs.\n",
    "* Print the model summary for the encoder network."
   ]
  },
  {
   "cell_type": "code",
   "execution_count": 106,
   "metadata": {},
   "outputs": [],
   "source": [
    "from tensorflow.keras.models import Model\n",
    "from tensorflow.keras.layers import Input, Masking, LSTM"
   ]
  },
  {
   "cell_type": "code",
   "execution_count": 107,
   "metadata": {},
   "outputs": [],
   "source": [
    "input_shape = (13,128)\n",
    "input_layer = Input(shape=input_shape)\n",
    "custom_layer = CustomLayer()(input_layer)\n",
    "masking_layer = Masking(mask_value=0)(custom_layer)\n",
    "lstm_layer = LSTM(units=512, return_state=True)(masking_layer)\n",
    "\n",
    "encoder_model = Model(inputs= input_layer, outputs = [lstm_layer[1], lstm_layer[2]])\n"
   ]
  },
  {
   "cell_type": "code",
   "execution_count": 108,
   "metadata": {},
   "outputs": [
    {
     "name": "stdout",
     "output_type": "stream",
     "text": [
      "The shape of the encoded batch of English data is  (2, 16, 512)\n"
     ]
    }
   ],
   "source": [
    "train_example = train_dataset.take(1)\n",
    "eng_example = next(iter(train_example))[0]\n",
    "\n",
    "encoded_eng_example = encoder_model(eng_example)\n",
    "print(\"The shape of the encoded batch of English data is \", np.array(encoded_eng_example).shape)\n"
   ]
  },
  {
   "cell_type": "code",
   "execution_count": 109,
   "metadata": {},
   "outputs": [
    {
     "name": "stdout",
     "output_type": "stream",
     "text": [
      "Model: \"model_1\"\n",
      "_________________________________________________________________\n",
      "Layer (type)                 Output Shape              Param #   \n",
      "=================================================================\n",
      "input_5 (InputLayer)         [(None, 13, 128)]         0         \n",
      "_________________________________________________________________\n",
      "custom_layer_8 (CustomLayer) (16, 14, 128)             128       \n",
      "_________________________________________________________________\n",
      "masking_1 (Masking)          (16, 14, 128)             0         \n",
      "_________________________________________________________________\n",
      "lstm_3 (LSTM)                [(16, 512), (16, 512), (1 1312768   \n",
      "=================================================================\n",
      "Total params: 1,312,896\n",
      "Trainable params: 1,312,896\n",
      "Non-trainable params: 0\n",
      "_________________________________________________________________\n"
     ]
    }
   ],
   "source": [
    "encoder_model.summary()"
   ]
  },
  {
   "cell_type": "markdown",
   "metadata": {},
   "source": [
    "## 5. Build the decoder network\n",
    "The decoder network follows the schematic diagram below. \n",
    "\n",
    "![Decoder schematic](data/neural_translation_model_decoder.png)"
   ]
  },
  {
   "cell_type": "markdown",
   "metadata": {},
   "source": [
    "You should now build the RNN decoder model.\n",
    "* Using Model subclassing, build the decoder network according to the following spec:\n",
    "    * The initializer should create the following layers:\n",
    "        * An Embedding layer with vocabulary size set to the number of unique German tokens, embedding dimension 128, and set to mask zero values in the input.\n",
    "        * An LSTM layer with 512 units, that returns its hidden and cell states, and also returns sequences.\n",
    "        * A Dense layer with number of units equal to the number of unique German tokens, and no activation function.\n",
    "    * The call method should include the usual `inputs` argument, as well as the additional keyword arguments `hidden_state` and `cell_state`. The default value for these keyword arguments should be `None`.\n",
    "    * The call method should pass the inputs through the Embedding layer, and then through the LSTM layer. If the `hidden_state` and `cell_state` arguments are provided, these should be used for the initial state of the LSTM layer. _Hint: use the_ `initial_state` _keyword argument when calling the LSTM layer on its input._\n",
    "    * The call method should pass the LSTM output sequence through the Dense layer, and return the resulting Tensor, along with the hidden and cell states of the LSTM layer.\n",
    "* Using the Dataset `.take(1)` method, extract a batch of English and German data examples from the training Dataset. Test the decoder model by first calling the encoder model on the English data Tensor to get the hidden and cell states, and then call the decoder model on the German data Tensor and hidden and cell states, and print the shape of the resulting decoder Tensor outputs.\n",
    "* Print the model summary for the decoder network."
   ]
  },
  {
   "cell_type": "code",
   "execution_count": 110,
   "metadata": {},
   "outputs": [],
   "source": [
    "from tensorflow.keras.layers import Embedding, Dense\n",
    "\n",
    "class DecoderModel(Model):\n",
    "    \n",
    "    def __init__(self, num_tokens):\n",
    "        super(DecoderModel,self).__init__()\n",
    "        self.embedding_layer = Embedding(input_dim = num_tokens,output_dim = 128,mask_zero=True)\n",
    "        self.lstm_layer = LSTM(units=512, return_state = True, return_sequences=True)\n",
    "        self.dense_layer = Dense(num_tokens)\n",
    "    \n",
    "    def call(self,inputs,hidden_state=None,cell_state=None):\n",
    "        x = self.embedding_layer(inputs)\n",
    "        x, hidden_state, cell_state = self.lstm_layer(x, initial_state=[hidden_state,cell_state])\n",
    "        x = self.dense_layer(x)\n",
    "        \n",
    "        return x, hidden_state, cell_state\n",
    "        \n",
    "\n",
    "        "
   ]
  },
  {
   "cell_type": "code",
   "execution_count": 112,
   "metadata": {},
   "outputs": [
    {
     "name": "stdout",
     "output_type": "stream",
     "text": [
      "The decoded German tokens have shape  (16, 14, 5743)\n"
     ]
    }
   ],
   "source": [
    "train_example = train_dataset.take(1)\n",
    "eng_example, ger_tokens = next(iter(train_example))\n",
    "\n",
    "encoded_hidden_state, encoded_cell_state = encoder_model(eng_example)\n",
    "\n",
    "# print(\"The shape of the encoded batch of English data is \", np.array(encoded_eng_example).shape)\n",
    "\n",
    "num_tokens = len(ger_tokenizer.word_index)\n",
    "\n",
    "decoder_model = DecoderModel(num_tokens)\n",
    "decoded_ger_tokens, _,_ = decoder_model(ger_tokens, hidden_state=encoded_hidden_state, cell_state=encoded_cell_state)\n",
    "\n",
    "print(\"The decoded German tokens have shape \", decoded_ger_tokens.shape)\n",
    "\n",
    "\n"
   ]
  },
  {
   "cell_type": "code",
   "execution_count": 113,
   "metadata": {},
   "outputs": [
    {
     "name": "stdout",
     "output_type": "stream",
     "text": [
      "Model: \"decoder_model_2\"\n",
      "_________________________________________________________________\n",
      "Layer (type)                 Output Shape              Param #   \n",
      "=================================================================\n",
      "embedding_2 (Embedding)      multiple                  735104    \n",
      "_________________________________________________________________\n",
      "lstm_4 (LSTM)                multiple                  1312768   \n",
      "_________________________________________________________________\n",
      "dense_2 (Dense)              multiple                  2946159   \n",
      "=================================================================\n",
      "Total params: 4,994,031\n",
      "Trainable params: 4,994,031\n",
      "Non-trainable params: 0\n",
      "_________________________________________________________________\n"
     ]
    }
   ],
   "source": [
    "decoder_model.summary()"
   ]
  },
  {
   "cell_type": "markdown",
   "metadata": {},
   "source": [
    "## 6. Make a custom training loop\n",
    "You should now write a custom training loop to train your custom neural translation model.\n",
    "* Define a function that takes a Tensor batch of German data (as extracted from the training Dataset), and returns a tuple containing German inputs and outputs for the decoder model (refer to schematic diagram above).\n",
    "* Define a function that computes the forward and backward pass for your translation model. This function should take an English input, German input and German output as arguments, and should do the following:\n",
    "    * Pass the English input into the encoder, to get the hidden and cell states of the encoder LSTM.\n",
    "    * These hidden and cell states are then passed into the decoder, along with the German inputs, which returns a sequence of outputs (the hidden and cell state outputs of the decoder LSTM are unused in this function).\n",
    "    * The loss should then be computed between the decoder outputs and the German output function argument.\n",
    "    * The function returns the loss and gradients with respect to the encoder and decoder’s trainable variables.\n",
    "    * Decorate the function with @tf.function\n",
    "* Define and run a custom training loop for a number of epochs (for you to choose) that does the following:\n",
    "    * Iterates through the training dataset, and creates decoder inputs and outputs from the German sequences.\n",
    "    * Updates the parameters of the translation model using the gradients of the function above and an optimizer object.\n",
    "    * Every epoch, compute the validation loss on a number of batches from the validation and save the epoch training and validation losses.\n",
    "* Plot the learning curves for loss vs epoch for both training and validation sets.\n",
    "\n",
    "_Hint: This model is computationally demanding to train. The quality of the model or length of training is not a factor in the grading rubric. However, to obtain a better model we recommend using the GPU accelerator hardware on Colab._"
   ]
  },
  {
   "cell_type": "code",
   "execution_count": 172,
   "metadata": {},
   "outputs": [],
   "source": [
    "def decoder_in_out_puts(inputs):\n",
    "    sliced = inputs[:,1:]\n",
    "    zeros_tensor = tf.zeros([16, 1], dtype=ger_tokens.dtype)\n",
    "    outputs = tf.concat([sliced,zeros_tensor], axis=1)\n",
    "    return inputs, outputs"
   ]
  },
  {
   "cell_type": "code",
   "execution_count": 173,
   "metadata": {},
   "outputs": [],
   "source": [
    "loss_object = tf.keras.losses.SparseCategoricalCrossentropy(from_logits=True)\n",
    "\n",
    "@tf.function\n",
    "def forward_backward_pass(eng_in, ger_in, ger_out):\n",
    "    with tf.GradientTape() as tape:\n",
    "        eng_hidden, eng_cell = encoder_model(eng_in)\n",
    "        output_seq, _, _ = decoder_model(ger_in, hidden_state=eng_hidden, cell_state=eng_cell)\n",
    "        loss_value = loss_object(ger_out, output_seq)\n",
    "    gradients = tape.gradient(loss_value, encoder_model.trainable_variables + decoder_model.trainable_variables)\n",
    "    return loss_value, gradients\n"
   ]
  },
  {
   "cell_type": "code",
   "execution_count": 174,
   "metadata": {},
   "outputs": [],
   "source": [
    "\n",
    "def training_loop(train_dataset, val_dataset, num_epochs, optimizer):\n",
    "    train_losses = []\n",
    "    val_losses = []\n",
    "\n",
    "    for epoch in range(num_epochs):\n",
    "        epoch_train_loss = tf.keras.metrics.Mean()\n",
    "        epoch_val_loss = tf.keras.metrics.Mean()\n",
    "        print(\"Starting Epoch: \", epoch)\n",
    "        # Training phase\n",
    "        for x,y in train_dataset:\n",
    "            eng_in = x\n",
    "            ger_in,ger_out = decoder_in_out_puts(y)\n",
    "            loss_value, gradients = forward_backward_pass(eng_in, ger_in, ger_out)\n",
    "            optimizer.apply_gradients(zip(gradients, encoder_model.trainable_variables + decoder_model.trainable_variables))\n",
    "            epoch_train_loss(loss_value)\n",
    "        print(\"Finished training phase\")\n",
    "        # Validation phase\n",
    "        for x,y in val_dataset:\n",
    "            eng_in = x\n",
    "            ger_in, get_out = decoder_in_out_puts(y)\n",
    "            loss_value, _ = forward_backward_pass(eng_in, ger_in, ger_out)\n",
    "            epoch_val_loss(loss_value)\n",
    "        print(\"Finished validation phase\")\n",
    "        # Compute average losses\n",
    "        train_loss = epoch_train_loss.result()\n",
    "        val_loss = epoch_valid_loss.result()\n",
    "\n",
    "        # Store losses\n",
    "        train_losses.append(train_loss)\n",
    "        val_losses.append(valid_loss)\n",
    "\n",
    "        # Print epoch results\n",
    "        print(f\"Epoch {epoch+1}/{num_epochs} - Train Loss: {train_loss:.4f} - Valid Loss: {val_loss:.4f}\")\n",
    "\n",
    "    return train_losses, val_losses\n",
    "\n",
    "\n",
    "# # Set hyperparameters\n",
    "# num_epochs = 10\n",
    "# optimizer = tf.keras.optimizers.Adam()\n",
    "\n",
    "# # Run the training loop\n",
    "# train_losses, valid_losses = training_loop(train_dataset, valid_dataset, num_epochs, optimizer)\n"
   ]
  },
  {
   "cell_type": "code",
   "execution_count": 175,
   "metadata": {},
   "outputs": [
    {
     "name": "stdout",
     "output_type": "stream",
     "text": [
      "Starting Epoch:  0\n"
     ]
    },
    {
     "name": "stderr",
     "output_type": "stream",
     "text": [
      "ERROR:root:Internal Python error in the inspect module.\n",
      "Below is the traceback from this internal error.\n",
      "\n"
     ]
    },
    {
     "name": "stdout",
     "output_type": "stream",
     "text": [
      "Traceback (most recent call last):\n",
      "  File \"/opt/conda/lib/python3.7/site-packages/IPython/core/interactiveshell.py\", line 3291, in run_code\n",
      "    exec(code_obj, self.user_global_ns, self.user_ns)\n",
      "  File \"<ipython-input-175-d6320258ad38>\", line 6, in <module>\n",
      "    train_losses, valid_losses = training_loop(train_dataset, valid_dataset, num_epochs, optimizer)\n",
      "  File \"<ipython-input-174-807ccd893b68>\", line 11, in training_loop\n",
      "    for x,y in train_dataset:\n",
      "  File \"/opt/conda/lib/python3.7/site-packages/tensorflow_core/python/data/ops/iterator_ops.py\", line 622, in __next__\n",
      "    return self.next()\n",
      "  File \"/opt/conda/lib/python3.7/site-packages/tensorflow_core/python/data/ops/iterator_ops.py\", line 666, in next\n",
      "    return self._next_internal()\n",
      "  File \"/opt/conda/lib/python3.7/site-packages/tensorflow_core/python/data/ops/iterator_ops.py\", line 651, in _next_internal\n",
      "    output_shapes=self._flat_output_shapes)\n",
      "  File \"/opt/conda/lib/python3.7/site-packages/tensorflow_core/python/ops/gen_dataset_ops.py\", line 2659, in iterator_get_next_sync\n",
      "    \"output_types\", output_types, \"output_shapes\", output_shapes)\n",
      "KeyboardInterrupt\n",
      "\n",
      "During handling of the above exception, another exception occurred:\n",
      "\n",
      "Traceback (most recent call last):\n",
      "  File \"/opt/conda/lib/python3.7/site-packages/IPython/core/interactiveshell.py\", line 2033, in showtraceback\n",
      "    stb = value._render_traceback_()\n",
      "AttributeError: 'KeyboardInterrupt' object has no attribute '_render_traceback_'\n",
      "\n",
      "During handling of the above exception, another exception occurred:\n",
      "\n",
      "Traceback (most recent call last):\n",
      "  File \"/opt/conda/lib/python3.7/site-packages/IPython/core/ultratb.py\", line 1095, in get_records\n",
      "    return _fixed_getinnerframes(etb, number_of_lines_of_context, tb_offset)\n",
      "  File \"/opt/conda/lib/python3.7/site-packages/IPython/core/ultratb.py\", line 313, in wrapped\n",
      "    return f(*args, **kwargs)\n",
      "  File \"/opt/conda/lib/python3.7/site-packages/IPython/core/ultratb.py\", line 347, in _fixed_getinnerframes\n",
      "    records = fix_frame_records_filenames(inspect.getinnerframes(etb, context))\n",
      "  File \"/opt/conda/lib/python3.7/inspect.py\", line 1500, in getinnerframes\n",
      "    frameinfo = (tb.tb_frame,) + getframeinfo(tb, context)\n",
      "  File \"/opt/conda/lib/python3.7/inspect.py\", line 1458, in getframeinfo\n",
      "    filename = getsourcefile(frame) or getfile(frame)\n",
      "  File \"/opt/conda/lib/python3.7/inspect.py\", line 696, in getsourcefile\n",
      "    if getattr(getmodule(object, filename), '__loader__', None) is not None:\n",
      "  File \"/opt/conda/lib/python3.7/inspect.py\", line 732, in getmodule\n",
      "    for modname, module in list(sys.modules.items()):\n",
      "KeyboardInterrupt\n"
     ]
    },
    {
     "ename": "KeyboardInterrupt",
     "evalue": "",
     "output_type": "error",
     "traceback": [
      "\u001b[0;31m---------------------------------------------------------------------------\u001b[0m"
     ]
    }
   ],
   "source": [
    "# Set hyperparameters\n",
    "num_epochs = 5\n",
    "optimizer = tf.keras.optimizers.Adam()\n",
    "\n",
    "# Run the training loop\n",
    "train_losses, valid_losses = training_loop(train_dataset, valid_dataset, num_epochs, optimizer)\n"
   ]
  },
  {
   "cell_type": "markdown",
   "metadata": {},
   "source": [
    "## 7. Use the model to translate\n",
    "Now it's time to put your model into practice! You should run your translation for five randomly sampled English sentences from the dataset. For each sentence, the process is as follows:\n",
    "* Preprocess and embed the English sentence according to the model requirements.\n",
    "* Pass the embedded sentence through the encoder to get the encoder hidden and cell states.\n",
    "* Starting with the special  `\"<start>\"` token, use this token and the final encoder hidden and cell states to get the one-step prediction from the decoder, as well as the decoder’s updated hidden and cell states.\n",
    "* Create a loop to get the next step prediction and updated hidden and cell states from the decoder, using the most recent hidden and cell states. Terminate the loop when the `\"<end>\"` token is emitted, or when the sentence has reached a maximum length.\n",
    "* Decode the output token sequence into German text and print the English text and the model's German translation."
   ]
  },
  {
   "cell_type": "code",
   "execution_count": null,
   "metadata": {},
   "outputs": [],
   "source": []
  },
  {
   "cell_type": "code",
   "execution_count": null,
   "metadata": {},
   "outputs": [],
   "source": []
  },
  {
   "cell_type": "code",
   "execution_count": null,
   "metadata": {},
   "outputs": [],
   "source": []
  }
 ],
 "metadata": {
  "kernelspec": {
   "display_name": "Python 3",
   "language": "python",
   "name": "python3"
  },
  "language_info": {
   "codemirror_mode": {
    "name": "ipython",
    "version": 3
   },
   "file_extension": ".py",
   "mimetype": "text/x-python",
   "name": "python",
   "nbconvert_exporter": "python",
   "pygments_lexer": "ipython3",
   "version": "3.7.1"
  }
 },
 "nbformat": 4,
 "nbformat_minor": 2
}
